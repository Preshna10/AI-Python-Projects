{
 "cells": [
  {
   "cell_type": "markdown",
   "id": "752d29a5",
   "metadata": {},
   "source": [
    "# Write a program to find prime number with in a range using function."
   ]
  },
  {
   "cell_type": "code",
   "execution_count": 1,
   "id": "f371a7af",
   "metadata": {},
   "outputs": [
    {
     "name": "stdout",
     "output_type": "stream",
     "text": [
      "Enter the start of the range: 2\n",
      "Enter the end of the range: 25\n",
      "Prime numbers within the range: [2, 3, 5, 7, 11, 13, 17, 19, 23]\n"
     ]
    }
   ],
   "source": [
    "start = int(input(\"Enter the start of the range: \"))\n",
    "end = int(input(\"Enter the end of the range: \"))\n",
    "\n",
    "def find_prime(start, end):\n",
    "    prime_numbers = []\n",
    "    for num in range(start, end+1):\n",
    "        if num > 1:\n",
    "            for i in range(2, num):\n",
    "                if num % i == 0:\n",
    "                    break\n",
    "            else:\n",
    "                prime_numbers.append(num)\n",
    "    return prime_numbers\n",
    "\n",
    "print(\"Prime numbers within the range:\", find_prime(start, end))"
   ]
  },
  {
   "cell_type": "markdown",
   "id": "b23f13e2",
   "metadata": {},
   "source": [
    "# Write a program to check palindrome."
   ]
  },
  {
   "cell_type": "code",
   "execution_count": 5,
   "id": "568e4619",
   "metadata": {},
   "outputs": [
    {
     "name": "stdout",
     "output_type": "stream",
     "text": [
      "enter the number:121\n",
      "Palindrome Number\n"
     ]
    }
   ],
   "source": [
    "num=int(input(\"enter the number:\"))\n",
    "rev=0\n",
    "temp=num\n",
    "\n",
    "while(num>0):\n",
    "    rev=(rev*10)+num%10\n",
    "    num=num//10\n",
    "\n",
    "if(temp==rev):\n",
    "    print(\"Palindrome Number\")\n",
    "else:\n",
    "    print(\"Not Palindrome Number\")"
   ]
  },
  {
   "cell_type": "markdown",
   "id": "a4de55ce",
   "metadata": {},
   "source": [
    "# Write a program to generate the Fibonacci sequence of a given number."
   ]
  },
  {
   "cell_type": "code",
   "execution_count": 8,
   "id": "5dce61e9",
   "metadata": {},
   "outputs": [
    {
     "name": "stdout",
     "output_type": "stream",
     "text": [
      "Enter a number to obtain fibonacci sequence:5\n",
      "0\n",
      "1\n",
      "1\n",
      "2\n",
      "3\n"
     ]
    }
   ],
   "source": [
    "a=0\n",
    "b=1\n",
    "n=int(input(\"Enter a number to obtain fibonacci sequence:\"))\n",
    "\n",
    "if n == 1:\n",
    "    print(a)\n",
    "else:\n",
    "    print(a)\n",
    "    print(b)\n",
    "    for i in range(2,n):\n",
    "         c = a+b \n",
    "         a = b \n",
    "         b = c\n",
    "         print(c)"
   ]
  },
  {
   "cell_type": "markdown",
   "id": "40e9471d",
   "metadata": {},
   "source": [
    "# Create a number guessing game. Where you have to generate a random number in between 1 to 100 and user have to prompt a number for guess. if its high or low number let the user know and guide them through the process to guess correct number."
   ]
  },
  {
   "cell_type": "code",
   "execution_count": 13,
   "id": "39eeb6f4",
   "metadata": {},
   "outputs": [
    {
     "name": "stdout",
     "output_type": "stream",
     "text": [
      "Enter any number: 36\n",
      "Too low\n",
      "Enter number again: 58\n",
      "Too low\n",
      "Enter number again: 85\n",
      "Too low\n",
      "Enter number again: 95\n",
      "Too high!\n",
      "Enter number again: 89\n",
      "Too high!\n",
      "Enter number again: 87\n",
      "Too high!\n",
      "Enter number again: 86\n",
      "You guessed it right!!\n"
     ]
    }
   ],
   "source": [
    "import random\n",
    "n = random.randrange(1,100)\n",
    "guess = int(input(\"Enter any number: \"))\n",
    "while n!= guess:\n",
    "    if guess < n:\n",
    "        print(\"Too low\")\n",
    "        guess = int(input(\"Enter number again: \"))\n",
    "    elif guess > n:\n",
    "        print(\"Too high!\")\n",
    "        guess = int(input(\"Enter number again: \"))\n",
    "    else:\n",
    "      break\n",
    "print(\"You guessed it right!!\")"
   ]
  },
  {
   "cell_type": "code",
   "execution_count": null,
   "id": "e453634d",
   "metadata": {},
   "outputs": [],
   "source": []
  }
 ],
 "metadata": {
  "kernelspec": {
   "display_name": "Python 3 (ipykernel)",
   "language": "python",
   "name": "python3"
  },
  "language_info": {
   "codemirror_mode": {
    "name": "ipython",
    "version": 3
   },
   "file_extension": ".py",
   "mimetype": "text/x-python",
   "name": "python",
   "nbconvert_exporter": "python",
   "pygments_lexer": "ipython3",
   "version": "3.11.5"
  }
 },
 "nbformat": 4,
 "nbformat_minor": 5
}
